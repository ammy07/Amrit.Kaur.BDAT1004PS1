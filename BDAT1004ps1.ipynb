{
 "cells": [
  {
   "cell_type": "markdown",
   "metadata": {},
   "source": [
    "# Problem Set-1 "
   ]
  },
  {
   "cell_type": "markdown",
   "metadata": {},
   "source": [
    "## BDAT1004"
   ]
  },
  {
   "cell_type": "markdown",
   "metadata": {},
   "source": [
    "### Question 1\n",
    "What data type is each of the following?"
   ]
  },
  {
   "cell_type": "markdown",
   "metadata": {},
   "source": [
    "|Question       |Data Type |\n",
    "|---------------|-----------|\n",
    "| 5             | int       |\n",
    "| 5.0           | float     |\n",
    "| 5 > 1         | int       |\n",
    "| '5'           | string    |\n",
    "| 5 * 2         | int       |\n",
    "| '5' * 2       | string    |\n",
    "| '5' + '2'     | string    |\n",
    "| 5 / 2         | float     |\n",
    "| 5 // 2        | int       |\n",
    "| [5, 2, 1]     |list/tupple|\n",
    "| 5 in[1, 4, 6] | list      |\n",
    "| math.pi       | float     |"
   ]
  },
  {
   "cell_type": "markdown",
   "metadata": {},
   "source": [
    "## **Question 2**"
   ]
  },
  {
   "cell_type": "markdown",
   "metadata": {},
   "source": [
    "#### Write (and evaluate) Python expressions that answer these questions:\n",
    "#### a. How many letters are there in 'Supercalifragilisticexpialidocious'?"
   ]
  },
  {
   "cell_type": "code",
   "execution_count": 6,
   "metadata": {},
   "outputs": [
    {
     "name": "stdout",
     "output_type": "stream",
     "text": [
      "34\n"
     ]
    }
   ],
   "source": [
    "str = 'Supercalifragilisticexpialidocious'\n",
    "print(len(str))"
   ]
  },
  {
   "cell_type": "markdown",
   "metadata": {},
   "source": [
    "#### b. Does 'Supercalifragilisticexpialidocious' contain 'ice' as a substring? "
   ]
  },
  {
   "cell_type": "code",
   "execution_count": 7,
   "metadata": {},
   "outputs": [
    {
     "name": "stdout",
     "output_type": "stream",
     "text": [
      "Yes\n"
     ]
    }
   ],
   "source": [
    "str = 'Supercalifragilisticexpialidocious'\n",
    "if 'ice' in str:\n",
    "    print(\"Yes\")\n",
    "else:\n",
    "    print(\"No\")"
   ]
  },
  {
   "cell_type": "markdown",
   "metadata": {},
   "source": [
    "#### c. Which of the following words is the longest: Supercalifragilisticexpialidocious, Honorificabilitudinitatibus, or Bababadalgharaghtakamminarronnkonn?"
   ]
  },
  {
   "cell_type": "code",
   "execution_count": 219,
   "metadata": {},
   "outputs": [
    {
     "name": "stdout",
     "output_type": "stream",
     "text": [
      "Bababadalgharaghtakamminarronnkonn, is the longest\n"
     ]
    }
   ],
   "source": [
    "str1='Supercalifragilisticexpialidocious'\n",
    "str2='Honorificabilitudinitatibus'\n",
    "str3='Bababadalgharaghtakamminarronnkonn'\n",
    "                                                #comparing lengths of the strings\n",
    "if len(str1)>len(str2) and len(str1)>len(str3):\n",
    "    print('{}, is the longest'.format(str1))\n",
    "    \n",
    "elif len(str2)>len(str1) and len(str2)>len(str3):\n",
    "    print('{}, is the longest \\n'.format(str2))\n",
    "    \n",
    "else:print('{}, is the longest'.format(str3))    "
   ]
  },
  {
   "cell_type": "markdown",
   "metadata": {},
   "source": [
    "\n",
    "\n",
    "\n",
    "#### *d. Which composer comes first in the dictionary: 'Berlioz', 'Borodin', 'Brian','Bartok', 'Bellini', 'Buxtehude', 'Bernstein'. Which one comes last?*\n"
   ]
  },
  {
   "cell_type": "code",
   "execution_count": 13,
   "metadata": {},
   "outputs": [
    {
     "name": "stdout",
     "output_type": "stream",
     "text": [
      "Bartok\n"
     ]
    }
   ],
   "source": [
    "content=['Berlioz', 'Borodin', 'Brian', 'Bartok', 'Bellini', 'Buxtehude', 'Bernstein']\n",
    "\n",
    "print(min(content))"
   ]
  },
  {
   "cell_type": "markdown",
   "metadata": {},
   "source": [
    "## Question 3"
   ]
  },
  {
   "cell_type": "markdown",
   "metadata": {},
   "source": [
    "#### Write a function inside(x,y,x1,y1,x2,y2) that returns True or False depending on whether the point (x,y) lies in the rectangle with lower left corner (x1,y1) and upper right corner (x2,y2).\n",
    "#### >>> inside(1,1,0,0,2,3)\n",
    "#### True\n",
    "#### >>> inside(-1,-1,0,0,2,3)\n",
    "#### False"
   ]
  },
  {
   "cell_type": "code",
   "execution_count": 38,
   "metadata": {},
   "outputs": [
    {
     "name": "stdout",
     "output_type": "stream",
     "text": [
      "True\n",
      "False\n"
     ]
    }
   ],
   "source": [
    "def inside(x,y,x1,y1,x2,y2):\n",
    "    \n",
    "    if x>x1 and x<x2:\n",
    "        if y>y1 and y<y2:\n",
    "          print('True')\n",
    "    else: print('False')\n",
    "\n",
    "inside(1,1,0,0,2,3)        \n",
    "inside(-1,-1,0,0,2,3)  \n"
   ]
  },
  {
   "cell_type": "markdown",
   "metadata": {},
   "source": [
    "## Question 4\n",
    "#### You can turn a word into pig-Latin using the following two rules (simplified):\n",
    "#### • If the word starts with a consonant, move that letter to the end and append 'ay'. For example, 'happy' becomes 'appyhay' and 'pencil' becomes 'encilpay'.\n",
    "#### • If the word starts with a vowel, simply append 'way' to the end of the word.\n",
    "#### For example, 'enter' becomes 'enterway' and 'other' becomes 'otherway' . For our purposes, there are 5 vowels: a, e, i, o, u (so we count y as a consonant).\n",
    "#### Write a function pig() that takes a word (i.e., a string) as input and returns its pigLatin form. Your function should still work if the input word contains upper case characters. Your output should always be lower case however.\n",
    "\n",
    "#### >>> pig('happy') \n",
    "#### 'appyhay'\n",
    "#### >>> pig('Enter')\n",
    "#### 'enterway' "
   ]
  },
  {
   "cell_type": "code",
   "execution_count": 37,
   "metadata": {},
   "outputs": [
    {
     "name": "stdout",
     "output_type": "stream",
     "text": [
      "enterway\n",
      "appyhay\n"
     ]
    }
   ],
   "source": [
    "def pig(str):\n",
    "    str1=str.lower()        #converting string to lower case\n",
    "    str2=''\n",
    "    if str1[0] in {'a','e','i','o','u'}:\n",
    "            print(str1 +'way')\n",
    "    else: \n",
    "        for i in range(1,len(str)): \n",
    "            str2+=str1[i]            \n",
    "        print(str2+str1[0] + 'ay')\n",
    "\n",
    "pig('Enter')    \n",
    "pig('happy')\n",
    "      \n",
    "                \n",
    "            "
   ]
  },
  {
   "cell_type": "markdown",
   "metadata": {},
   "source": [
    "## Question 5\n",
    "#### File bloodtype1.txt records blood-types of patients (A, B, AB, O or OO) at a clinic.\n",
    "#### Write a function bldcount() that reads the file with name name and reports (i.e.,prints) how many patients there are in each bloodtype.\n",
    "#### >>> bldcount('bloodtype.txt')\n",
    "#### There are 10 patients of blood type A.\n",
    "#### There is one patient of blood type B.\n",
    "#### There are 10 patients of blood type AB.\n",
    "#### There are 12 patients of blood type O.\n",
    "#### There are no patients of blood type OO"
   ]
  },
  {
   "cell_type": "code",
   "execution_count": 4,
   "metadata": {},
   "outputs": [
    {
     "name": "stdout",
     "output_type": "stream",
     "text": [
      "There are 15 patients of blood type A.\n",
      "There is 1 patient of blood type B.\n",
      "There are 13 patients of blood type AB.\n",
      "There are 15 patients of blood type O.\n",
      "There are 0 patients of blood type OO.\n"
     ]
    }
   ],
   "source": [
    "def bldcount(str):\n",
    "    infile =open(str,'r')         \n",
    "    string=infile.read()\n",
    "    line=string.split()\n",
    "    for i in string:                                        #counting frequencies of each BloodTypes using func count\n",
    "            A =line.count('A')\n",
    "            B =line.count('B')\n",
    "            AB =line.count('AB')   \n",
    "            O =line.count('O')\n",
    "            OO =line.count('OO')\n",
    "             \n",
    "    print(\"There are %s patients of blood type A.\"%A) \n",
    "    print(\"There is %s patient of blood type B.\"%B)\n",
    "    print(\"There are %s patients of blood type AB.\"% AB)\n",
    "    print(\"There are %s patients of blood type O.\"% O)\n",
    "    print(\"There are %s patients of blood type OO.\"% OO)\n",
    "\n",
    "\n",
    "bldcount('bloodtype1.txt')\n",
    "          "
   ]
  },
  {
   "cell_type": "markdown",
   "metadata": {},
   "source": [
    "## Question 6\n",
    "#### Write a function curconv() that takes as input:\n",
    "#### 1. a currency represented using a string (e.g., 'JPY' for the Japanese Yen or 'EUR' for the Euro)\n",
    "#### 2. an amount and then converts and returns the amount in US dollars."
   ]
  },
  {
   "cell_type": "code",
   "execution_count": 37,
   "metadata": {},
   "outputs": [
    {
     "name": "stdout",
     "output_type": "stream",
     "text": [
      "Enter your currency: EUR\n",
      "Enter amount: 333\n",
      "Your amount in US dollars is: $ 409.4749152\n"
     ]
    }
   ],
   "source": [
    "def curconv():\n",
    "    c = input(\"Enter your currency: \")                                         #taking inputs for currency and amount from user\n",
    "    lst = c.split() \n",
    "    a = input(\"Enter amount: \")\n",
    "    file = open(\"currencies.txt\")                                              #opening and reading the file\n",
    "    curfile = file.read() \n",
    "    currency = curfile.split()                                                 #splitting to read the words in the file\n",
    "       \n",
    "    for i in range(len(currency)):\n",
    "        if lst[0] == currency[i]:                                              #first word is currency\n",
    "            f = float(currency[i+1])                          #taking next word i.e. the value of the currency for conversion\n",
    "            USD = float(a) * f                                                  #converting string value to float\n",
    "    print(\"Your amount in US dollars is: $ \" + str(USD)) \n",
    "    \n",
    "curconv()     "
   ]
  },
  {
   "cell_type": "markdown",
   "metadata": {},
   "source": [
    "## Question 7\n",
    "#### Each of the following will cause an exception (an error). Identify what type of exception each will cause.\n",
    "#### 1.Trying to add incompatible variables, as in \n",
    "####     adding 6 + ‘a’\n",
    "#### 2.Referring to the 12th item of a list that has only 10 items\n",
    "#### 3.Using a value that is out of range for a function’s input, such as calling math.sqrt(-1.0)\n",
    "#### 4.Using an undeclared variable, such as print(x)\n",
    "####      when x has not been defined "
   ]
  },
  {
   "cell_type": "code",
   "execution_count": 58,
   "metadata": {},
   "outputs": [],
   "source": [
    "#b=6+'a'\n",
    "#print(b)\n"
   ]
  },
  {
   "cell_type": "markdown",
   "metadata": {},
   "source": [
    "1.Type Error"
   ]
  },
  {
   "cell_type": "code",
   "execution_count": 57,
   "metadata": {},
   "outputs": [],
   "source": [
    "#arr=['a','b','c','d','e',]\n",
    "#print(arr[7])\n"
   ]
  },
  {
   "cell_type": "markdown",
   "metadata": {},
   "source": [
    "2.Index Error"
   ]
  },
  {
   "cell_type": "code",
   "execution_count": 63,
   "metadata": {},
   "outputs": [],
   "source": [
    "#math.sqrt(-1.0)"
   ]
  },
  {
   "cell_type": "markdown",
   "metadata": {},
   "source": [
    "3.Value Error "
   ]
  },
  {
   "cell_type": "code",
   "execution_count": 64,
   "metadata": {},
   "outputs": [],
   "source": [
    "#print(x)"
   ]
  },
  {
   "cell_type": "markdown",
   "metadata": {},
   "source": [
    "4.Name Error\n"
   ]
  },
  {
   "cell_type": "markdown",
   "metadata": {},
   "source": [
    "## Question 8\n",
    "#### Encryption is the process of hiding the meaning of a text by substituting letters in themessage with other letters, according to some system. If the process is successful, no one but the intended recipient can understand the encrypted message. Cryptanalysis refers to attempts to undo the encryption, even if some details of the encryption are unknown (for example, if an encrypted message has been intercepted). The first step of cryptanalysis is often to build up a table of letter frequencies in the encrypted text. Assume that the string letters is already defined as 'abcdefghijklmnopqrstuvwxyz'. \n",
    "#### Write a function called frequencies() that takes a string as its only parameter, and returns a list of integers, showing the number of times each character appears in the text. Your function may ignore any characters that are not in letters.\n",
    "#### >>> frequencies('The quick red fox got bored and went home.')\n",
    "[1, 1, 1, 3, 5, 1, 1, 2, 1, 0, 1, 0, 1, 2, 4, 0, 1, 2, 0, 2,\n",
    "1, 0, 1, 1, 0, 0]\n",
    "#### >>> frequencies('apple')\n"
   ]
  },
  {
   "cell_type": "code",
   "execution_count": 255,
   "metadata": {},
   "outputs": [
    {
     "name": "stdout",
     "output_type": "stream",
     "text": [
      "[1, 1, 1, 3, 5, 1, 1, 2, 1, 0, 1, 0, 1, 2, 4, 0, 1, 2, 0, 3, 1, 0, 1, 1, 0, 0]\n",
      "[1, 0, 0, 0, 1, 0, 0, 0, 0, 0, 0, 1, 0, 0, 0, 2, 0, 0, 0, 0, 0, 0, 0, 0, 0, 0]\n"
     ]
    }
   ],
   "source": [
    "def frequencies(string):\n",
    "    letters={'a':0,'b':0,'c':0,'d':0,'e':0,'f':0,'g':0,'h':0,'i':0,'j':0,'k':0,'l':0,'m':0,'n':0,'o':0,'p':0,'q':0,'r':0,'s':0,'t':0,'u':0,'v':0,'w':0,'x':0,'y':0,'z':0}\n",
    "    #dictionary\n",
    "    for char in string.lower(): #converting to lower case\n",
    "        if char.isalpha(): #check if the character is alphabet,and ignoring spaces and .\n",
    "            letters[char]=letters[char]+1\n",
    "      \n",
    "    counts=[]\n",
    "    for x in letters.values():\n",
    "        #print(x)\n",
    "        counts.append(x)   #adding count to the counts list\n",
    "    return counts\n",
    "\n",
    "print(frequencies('The quick red fox got bored and went home.'))\n",
    "print(frequencies('apple'))"
   ]
  },
  {
   "cell_type": "markdown",
   "metadata": {},
   "source": [
    "## Question 9\n",
    "#### The Sieve of Erastophenes is an algorithm -- known to ancient Greeks -- that finds all prime numbers up to a given number n. It does this by first creating a list L from 2 to n and an (initially empty) list primeL. The algorithm then takes the first number in list L (2) and appends it to list primeL, and then removes 2 and all its multiples (4,6,8,10,12, ...) from L.\n",
    "#### The algorithm then takes the new first number in L (3) and appends it to list primeL, and then removes from L 3 and all its remaining multiples (9,15,21,...). So, in every iteration, the first number of list L is appended to list primeL and then it and its multiples are removed from list L. The iterations stop when list L becomes empty. Write a function sieve() that takes as input a positive integer n, implements the above algorithm, and returns a list of all prime numbers up to n.\n",
    "### >>> sieve(56)\n",
    "##### [2, 3, 5, 7, 11, 13, 17, 19, 23, 29, 31, 37, 41,43, 47, 53]\n",
    "### >>> sieve(368)\n",
    "#### [2, 3, 5, 7, 11, 13, 17, 19, 23, 29, 31, 37, 41,43, 47, 53, 59, 61, 67, 71, 73, 79, 83, 89, 97,101, 103, 107, 109, 113, 127, 131, 137, 139, 149,151, 157, 163, 167, 173, 179, 181, 191, 193, 197,199, 211, 223, 227, 229, 233, 239, 241, 251, 257,263, 269, 271, 277, 281, 283, 293, 307, 311, 313,317, 331, 337, 347, 349, 353, 359, 367]\n",
    "### >>> sieve(32)\n",
    "#### [2, 3, 5, 7, 11, 13, 17, 19, 23, 29, 31]"
   ]
  },
  {
   "cell_type": "code",
   "execution_count": 15,
   "metadata": {},
   "outputs": [
    {
     "data": {
      "text/plain": [
       "[2, 3, 5, 7, 11, 13, 17, 19, 23, 29, 31, 37, 41, 43, 47, 53, 59]"
      ]
     },
     "execution_count": 15,
     "metadata": {},
     "output_type": "execute_result"
    }
   ],
   "source": [
    "#removes all the multiples from the list\n",
    "def remove(number, lst):\n",
    "    itemLst = [item for item in lst if item % number != 0]\n",
    "    return itemLst\n",
    "        \n",
    "#checking for prime number\n",
    "def isPrime(n):\n",
    "    Prime = True\n",
    "    for i in range(2, n):   \n",
    "        if n % i == 0:\n",
    "            Prime = False\n",
    "           \n",
    "    return Prime\n",
    "\n",
    "\n",
    "# main function\n",
    "def sieve(n):\n",
    "    #creating a list from 2 to n\n",
    "    L = list(range(2, n + 1)) #range is exclusive thus (n+1)\n",
    "    primeL = []  #empty list\n",
    "    for num in L:\n",
    "        if isPrime(num):       #if prime number then add to prime list and remove from L\n",
    "            primeL.append(num)\n",
    "            L = remove(num, L) \n",
    "    return primeL\n",
    "\n",
    "sieve(60)\n"
   ]
  },
  {
   "cell_type": "markdown",
   "metadata": {},
   "source": [
    "## Question 10\n",
    "#### Implement function triangleArea(a,b,c) that takes as input the lengths of the 3 sides of a triangle and returns the area of the triangle. By Heron's formula, the area of a triangle with side lengths a, b, and c is s(s - a)(s -b)(s -c), where s = (a+b+c)/2.\n",
    "#### >>> triangleArea(2,2,2)\n",
    "#### 1.7320508075688772"
   ]
  },
  {
   "cell_type": "code",
   "execution_count": 65,
   "metadata": {},
   "outputs": [
    {
     "name": "stdout",
     "output_type": "stream",
     "text": [
      "1.7320508075688772\n"
     ]
    }
   ],
   "source": [
    "#importing math for using sqrt function\n",
    "import math\n",
    "\n",
    "def triangleArea(a,b,c):\n",
    "         s=(a+b+c)/2\n",
    "         area = math.sqrt(s*((s-a)*(s-b)*(s-c)))\n",
    "         print(area)   \n",
    "            \n",
    "triangleArea(2,2,2)            \n",
    "        "
   ]
  }
 ],
 "metadata": {
  "kernelspec": {
   "display_name": "Python 3",
   "language": "python",
   "name": "python3"
  },
  "language_info": {
   "codemirror_mode": {
    "name": "ipython",
    "version": 3
   },
   "file_extension": ".py",
   "mimetype": "text/x-python",
   "name": "python",
   "nbconvert_exporter": "python",
   "pygments_lexer": "ipython3",
   "version": "3.8.3"
  }
 },
 "nbformat": 4,
 "nbformat_minor": 4
}
